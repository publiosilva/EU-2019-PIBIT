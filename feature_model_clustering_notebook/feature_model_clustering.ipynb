{
 "cells": [
  {
   "cell_type": "code",
   "execution_count": 8,
   "metadata": {},
   "outputs": [],
   "source": [
    "import pandas as pd\n",
    "\n",
    "from sklearn.cluster import KMeans\n",
    "from sklearn.preprocessing import MinMaxScaler"
   ]
  },
  {
   "cell_type": "code",
   "execution_count": 9,
   "metadata": {},
   "outputs": [],
   "source": [
    "NUMBER_OF_CLUSTERS = 5\n",
    "RSEED = 0"
   ]
  },
  {
   "cell_type": "code",
   "execution_count": 17,
   "metadata": {},
   "outputs": [
    {
     "data": {
      "text/html": [
       "<div>\n",
       "<style scoped>\n",
       "    .dataframe tbody tr th:only-of-type {\n",
       "        vertical-align: middle;\n",
       "    }\n",
       "\n",
       "    .dataframe tbody tr th {\n",
       "        vertical-align: top;\n",
       "    }\n",
       "\n",
       "    .dataframe thead th {\n",
       "        text-align: right;\n",
       "    }\n",
       "</style>\n",
       "<table border=\"1\" class=\"dataframe\">\n",
       "  <thead>\n",
       "    <tr style=\"text-align: right;\">\n",
       "      <th></th>\n",
       "      <th>Feature Model</th>\n",
       "      <th>Number of features (NF)</th>\n",
       "      <th>Number of Mandatory Features (NM)</th>\n",
       "      <th>Number of top features (NTop)</th>\n",
       "      <th>Number of leaf Features (NLeaf)</th>\n",
       "      <th>Depth of tree Max (DT Max)</th>\n",
       "      <th>Cognitive Complexity of a Feature Model (CogC)</th>\n",
       "      <th>Feature EXtendibility (FEX)</th>\n",
       "      <th>Flexibility of configuration (FoC)</th>\n",
       "      <th>Single Cyclic Dependent Features (SCDF)</th>\n",
       "      <th>Multiple Cyclic Dependent Features (MCDF)</th>\n",
       "      <th>Number of Features Referenced in Constraints Mean (Rden)</th>\n",
       "      <th>Ratio of variability (RoV)</th>\n",
       "      <th>Number of valid configurations (NVC)</th>\n",
       "      <th>Number Groups Or (NGOr)</th>\n",
       "      <th>Number Groups XOR (NGXOr)</th>\n",
       "    </tr>\n",
       "  </thead>\n",
       "  <tbody>\n",
       "    <tr>\n",
       "      <th>0</th>\n",
       "      <td>Simple e-shop</td>\n",
       "      <td>10</td>\n",
       "      <td>3</td>\n",
       "      <td>4</td>\n",
       "      <td>7</td>\n",
       "      <td>3</td>\n",
       "      <td>2</td>\n",
       "      <td>9</td>\n",
       "      <td>0.1</td>\n",
       "      <td>1</td>\n",
       "      <td>1</td>\n",
       "      <td>1.0</td>\n",
       "      <td>2.20</td>\n",
       "      <td>20.0</td>\n",
       "      <td>1</td>\n",
       "      <td>1</td>\n",
       "    </tr>\n",
       "    <tr>\n",
       "      <th>1</th>\n",
       "      <td>Prontuário Eletrônico de Pacientes</td>\n",
       "      <td>10</td>\n",
       "      <td>5</td>\n",
       "      <td>4</td>\n",
       "      <td>6</td>\n",
       "      <td>2</td>\n",
       "      <td>0</td>\n",
       "      <td>6</td>\n",
       "      <td>0.4</td>\n",
       "      <td>0</td>\n",
       "      <td>0</td>\n",
       "      <td>0.0</td>\n",
       "      <td>2.25</td>\n",
       "      <td>10.0</td>\n",
       "      <td>0</td>\n",
       "      <td>0</td>\n",
       "    </tr>\n",
       "    <tr>\n",
       "      <th>2</th>\n",
       "      <td>Simnumero</td>\n",
       "      <td>10</td>\n",
       "      <td>2</td>\n",
       "      <td>2</td>\n",
       "      <td>2</td>\n",
       "      <td>8</td>\n",
       "      <td>0</td>\n",
       "      <td>2</td>\n",
       "      <td>0.7</td>\n",
       "      <td>0</td>\n",
       "      <td>0</td>\n",
       "      <td>0.0</td>\n",
       "      <td>1.00</td>\n",
       "      <td>8.0</td>\n",
       "      <td>0</td>\n",
       "      <td>0</td>\n",
       "    </tr>\n",
       "    <tr>\n",
       "      <th>3</th>\n",
       "      <td>MobileMedia</td>\n",
       "      <td>10</td>\n",
       "      <td>2</td>\n",
       "      <td>4</td>\n",
       "      <td>7</td>\n",
       "      <td>3</td>\n",
       "      <td>1</td>\n",
       "      <td>7</td>\n",
       "      <td>0.4</td>\n",
       "      <td>0</td>\n",
       "      <td>0</td>\n",
       "      <td>0.0</td>\n",
       "      <td>2.50</td>\n",
       "      <td>30.0</td>\n",
       "      <td>0</td>\n",
       "      <td>1</td>\n",
       "    </tr>\n",
       "    <tr>\n",
       "      <th>4</th>\n",
       "      <td>CIMS PL</td>\n",
       "      <td>10</td>\n",
       "      <td>9</td>\n",
       "      <td>5</td>\n",
       "      <td>8</td>\n",
       "      <td>2</td>\n",
       "      <td>0</td>\n",
       "      <td>8</td>\n",
       "      <td>0.0</td>\n",
       "      <td>0</td>\n",
       "      <td>0</td>\n",
       "      <td>0.0</td>\n",
       "      <td>4.50</td>\n",
       "      <td>1.0</td>\n",
       "      <td>0</td>\n",
       "      <td>0</td>\n",
       "    </tr>\n",
       "  </tbody>\n",
       "</table>\n",
       "</div>"
      ],
      "text/plain": [
       "                        Feature Model  Number of features (NF)  \\\n",
       "0                       Simple e-shop                       10   \n",
       "1  Prontuário Eletrônico de Pacientes                       10   \n",
       "2                           Simnumero                       10   \n",
       "3                         MobileMedia                       10   \n",
       "4                             CIMS PL                       10   \n",
       "\n",
       "   Number of Mandatory Features (NM)  Number of top features (NTop)  \\\n",
       "0                                  3                              4   \n",
       "1                                  5                              4   \n",
       "2                                  2                              2   \n",
       "3                                  2                              4   \n",
       "4                                  9                              5   \n",
       "\n",
       "   Number of leaf Features (NLeaf)  Depth of tree Max (DT Max)  \\\n",
       "0                                7                           3   \n",
       "1                                6                           2   \n",
       "2                                2                           8   \n",
       "3                                7                           3   \n",
       "4                                8                           2   \n",
       "\n",
       "   Cognitive Complexity of a Feature Model (CogC)  \\\n",
       "0                                               2   \n",
       "1                                               0   \n",
       "2                                               0   \n",
       "3                                               1   \n",
       "4                                               0   \n",
       "\n",
       "   Feature EXtendibility (FEX)  Flexibility of configuration (FoC)  \\\n",
       "0                            9                                 0.1   \n",
       "1                            6                                 0.4   \n",
       "2                            2                                 0.7   \n",
       "3                            7                                 0.4   \n",
       "4                            8                                 0.0   \n",
       "\n",
       "   Single Cyclic Dependent Features (SCDF)  \\\n",
       "0                                        1   \n",
       "1                                        0   \n",
       "2                                        0   \n",
       "3                                        0   \n",
       "4                                        0   \n",
       "\n",
       "   Multiple Cyclic Dependent Features (MCDF)  \\\n",
       "0                                          1   \n",
       "1                                          0   \n",
       "2                                          0   \n",
       "3                                          0   \n",
       "4                                          0   \n",
       "\n",
       "   Number of Features Referenced in Constraints Mean (Rden)  \\\n",
       "0                                                1.0          \n",
       "1                                                0.0          \n",
       "2                                                0.0          \n",
       "3                                                0.0          \n",
       "4                                                0.0          \n",
       "\n",
       "   Ratio of variability (RoV)  Number of valid configurations (NVC)  \\\n",
       "0                        2.20                                  20.0   \n",
       "1                        2.25                                  10.0   \n",
       "2                        1.00                                   8.0   \n",
       "3                        2.50                                  30.0   \n",
       "4                        4.50                                   1.0   \n",
       "\n",
       "   Number Groups Or (NGOr)  Number Groups XOR (NGXOr)  \n",
       "0                        1                          1  \n",
       "1                        0                          0  \n",
       "2                        0                          0  \n",
       "3                        0                          1  \n",
       "4                        0                          0  "
      ]
     },
     "execution_count": 17,
     "metadata": {},
     "output_type": "execute_result"
    }
   ],
   "source": [
    "dataset = pd.read_csv('files/feature_model_dataset.csv')\n",
    "\n",
    "dataset.head()"
   ]
  },
  {
   "cell_type": "code",
   "execution_count": 11,
   "metadata": {},
   "outputs": [],
   "source": [
    "min_max_scaler = MinMaxScaler().fit(dataset.iloc[:, 1:])"
   ]
  },
  {
   "cell_type": "code",
   "execution_count": 12,
   "metadata": {},
   "outputs": [],
   "source": [
    "X = min_max_scaler.transform(dataset.iloc[:, 1:])"
   ]
  },
  {
   "cell_type": "code",
   "execution_count": 13,
   "metadata": {},
   "outputs": [],
   "source": [
    "kmeans = KMeans(n_clusters=NUMBER_OF_CLUSTERS, random_state=RSEED).fit(X)"
   ]
  },
  {
   "cell_type": "code",
   "execution_count": 14,
   "metadata": {},
   "outputs": [
    {
     "data": {
      "text/plain": [
       "array([1, 3, 3, 3, 1, 3, 3, 1, 1, 1, 1, 1, 3, 1, 3, 1, 1, 1, 1, 1, 3, 1,\n",
       "       1, 1, 3, 3, 1, 3, 1, 1, 1, 3, 1, 1, 1, 1, 1, 3, 3, 3, 3, 1, 1, 1,\n",
       "       1, 1, 3, 3, 1, 3, 3, 1, 1, 3, 1, 1, 3, 1, 1, 1, 1, 3, 1, 1, 1, 3,\n",
       "       3, 3, 1, 1, 1, 1, 3, 3, 1, 1, 1, 1, 3, 3, 1, 3, 1, 1, 3, 0, 3, 1,\n",
       "       3, 1, 1, 1, 1, 0, 0, 3, 1, 1, 1, 1, 3, 1, 3, 1, 3, 1, 1, 3, 1, 3,\n",
       "       3, 1, 1, 1, 0, 1, 2, 1, 0, 3, 2, 1, 1, 1, 1, 0, 3, 0, 3, 0, 3, 3,\n",
       "       3, 2, 0, 3, 3, 2, 1, 1, 2, 3, 1, 3, 2, 2, 2, 2, 2, 1, 1, 3, 0, 2,\n",
       "       3, 0, 2, 0, 0, 3, 0, 1, 2, 3, 1, 2, 2, 1, 2, 2, 3, 1, 0, 2, 0, 2,\n",
       "       2, 3, 2, 2, 2, 1, 3, 2, 2, 0, 2, 2, 2, 2, 2, 2, 2, 2, 0, 0, 2, 0,\n",
       "       2, 2, 3, 0, 0, 0, 2, 2, 2, 2, 0, 2, 2, 3, 0, 2, 0, 2, 0, 4, 1, 1,\n",
       "       1, 3, 3, 3, 1, 1, 1, 1, 3, 1, 1, 1, 3, 1, 1, 3, 3, 1, 1, 1, 1, 1,\n",
       "       1, 1, 1, 1, 3, 1, 3, 1, 1, 1, 1, 1, 3, 1, 3, 3, 1, 1, 1, 1, 1, 1,\n",
       "       1, 2, 1, 3, 1, 1, 1, 3, 1, 1, 0, 1, 1, 1, 0, 3, 1, 0, 1, 1, 3, 0,\n",
       "       1, 0, 3, 3, 1, 1, 1, 1, 1, 0, 1, 3, 0, 2, 2, 2, 3, 2, 0, 0, 0, 1,\n",
       "       1, 0, 0, 3, 2, 1, 2, 2, 3, 2, 3, 1, 2, 3, 0, 2, 0, 2])"
      ]
     },
     "execution_count": 14,
     "metadata": {},
     "output_type": "execute_result"
    }
   ],
   "source": [
    "kmeans.labels_"
   ]
  },
  {
   "cell_type": "code",
   "execution_count": 16,
   "metadata": {},
   "outputs": [
    {
     "data": {
      "text/plain": [
       "array([3])"
      ]
     },
     "execution_count": 16,
     "metadata": {},
     "output_type": "execute_result"
    }
   ],
   "source": [
    "y = min_max_scaler.transform([[10, 5, 5, 2, 7, 2, 5, 0.4, 0, 0, 0, 2.5, 30, 0, 0]])\n",
    "y_cluster = kmeans.predict(y)\n",
    "\n",
    "y_cluster"
   ]
  },
  {
   "cell_type": "code",
   "execution_count": null,
   "metadata": {},
   "outputs": [],
   "source": [
    "# Save Dataset With Labels\n",
    "\n",
    "csv_string = ''\n",
    "index = 0\n",
    "\n",
    "for line in dataset.values:\n",
    "    for column in line:\n",
    "        csv_string += str(column) + ';'\n",
    "    csv_string += str(kmeans.labels_[index]) + '\\n'\n",
    "    index += 1       \n",
    "\n",
    "with open('files/feature_model_with_labels_dataset.csv', 'w', encoding=\"utf-8\") as file:\n",
    "    file.write(csv_string)"
   ]
  },
  {
   "cell_type": "code",
   "execution_count": null,
   "metadata": {},
   "outputs": [],
   "source": []
  }
 ],
 "metadata": {
  "kernelspec": {
   "display_name": "Python 3",
   "language": "python",
   "name": "python3"
  },
  "language_info": {
   "codemirror_mode": {
    "name": "ipython",
    "version": 3
   },
   "file_extension": ".py",
   "mimetype": "text/x-python",
   "name": "python",
   "nbconvert_exporter": "python",
   "pygments_lexer": "ipython3",
   "version": "3.7.2"
  }
 },
 "nbformat": 4,
 "nbformat_minor": 2
}
